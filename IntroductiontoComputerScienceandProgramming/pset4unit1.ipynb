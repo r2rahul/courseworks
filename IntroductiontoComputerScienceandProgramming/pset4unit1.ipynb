{
 "metadata": {
  "name": "pset4unit1.ipynb"
 },
 "nbformat": 3,
 "nbformat_minor": 0,
 "worksheets": [
  {
   "cells": [
    {
     "cell_type": "code",
     "collapsed": false,
     "input": [
      "def loadWords():\n",
      "    \"\"\"\n",
      "    Returns a list of valid words. Words are strings of lowercase letters.\n",
      "    \n",
      "    Depending on the size of the word list, this function may\n",
      "    take a while to finish.\n",
      "    \"\"\"\n",
      "    print \"Loading word list from file...\"\n",
      "    # inFile: file\n",
      "    inFile = open(WORDLIST_FILENAME, 'r', 0)\n",
      "    # wordList: list of strings\n",
      "    wordList = []\n",
      "    for line in inFile:\n",
      "        wordList.append(line.strip().lower())\n",
      "    print \"  \", len(wordList), \"words loaded.\"\n",
      "    return wordList"
     ],
     "language": "python",
     "metadata": {},
     "outputs": [],
     "prompt_number": 5
    },
    {
     "cell_type": "code",
     "collapsed": false,
     "input": [
      "loadWords\n"
     ],
     "language": "python",
     "metadata": {},
     "outputs": [
      {
       "metadata": {},
       "output_type": "pyout",
       "prompt_number": 6,
       "text": [
        "<function __main__.loadWords>"
       ]
      }
     ],
     "prompt_number": 6
    },
    {
     "cell_type": "code",
     "collapsed": false,
     "input": [
      "def getWordScore(word, n):\n",
      "    \"\"\"\n",
      "    Returns the score for a word. Assumes the word is a valid word.\n",
      "\n",
      "    The score for a word is the sum of the points for letters in the\n",
      "    word, multiplied by the length of the word, PLUS 50 points if all n\n",
      "    letters are used on the first turn.\n",
      "\n",
      "    Letters are scored as in Scrabble; A is worth 1, B is worth 3, C is\n",
      "    worth 3, D is worth 2, E is worth 1, and so on (see SCRABBLE_LETTER_VALUES)\n",
      "\n",
      "    word: string (lowercase letters)\n",
      "    n: integer (HAND_SIZE; i.e., hand size required for additional points)\n",
      "    returns: int >= 0\n",
      "    \"\"\"\n",
      "    SCRABBLE_LETTER_VALUES = {\n",
      "    'a': 1, 'b': 3, 'c': 3, 'd': 2, 'e': 1, 'f': 4, 'g': 2, 'h': 4, 'i': 1, 'j': 8, 'k': 5, 'l': 1, 'm': 3, 'n': 1, 'o': 1, 'p': 3, 'q': 10, 'r': 1, 's': 1, 't': 1, 'u': 1, 'v': 4, 'w': 4, 'x': 8, 'y': 4, 'z': 10\n",
      "    }\n",
      "    count=0\n",
      "    if word=='':\n",
      "        return(int(0))\n",
      "    for char in word:\n",
      "        count+=SCRABBLE_LETTER_VALUES[char]\n",
      "    count*=len(word)\n",
      "    if len(word)==n:\n",
      "        count+=50\n",
      "    return(int(count))\n"
     ],
     "language": "python",
     "metadata": {},
     "outputs": [],
     "prompt_number": 7
    },
    {
     "cell_type": "code",
     "collapsed": false,
     "input": [
      "print getWordScore('fork',4)"
     ],
     "language": "python",
     "metadata": {},
     "outputs": [
      {
       "output_type": "stream",
       "stream": "stdout",
       "text": [
        "94\n"
       ]
      }
     ],
     "prompt_number": 8
    },
    {
     "cell_type": "code",
     "collapsed": false,
     "input": [
      "hand = {'a':1, 'q':1, 'l':2, 'm':1, 'u':1, 'i':1}\n",
      "test=hand.keys()\n",
      "testP=test.sort()\n",
      "print testP"
     ],
     "language": "python",
     "metadata": {},
     "outputs": [
      {
       "output_type": "stream",
       "stream": "stdout",
       "text": [
        "None\n"
       ]
      }
     ],
     "prompt_number": 9
    },
    {
     "cell_type": "code",
     "collapsed": false,
     "input": [
      "def updateHand(hand, word):\n",
      "    \"\"\"\n",
      "    Assumes that 'hand' has all the letters in word.\n",
      "    In other words, this assumes that however many times\n",
      "    a letter appears in 'word', 'hand' has at least as\n",
      "    many of that letter in it. \n",
      "\n",
      "    Updates the hand: uses up the letters in the given word\n",
      "    and returns the new hand, without those letters in it.\n",
      "\n",
      "    Has no side effects: does not modify hand.\n",
      "\n",
      "    word: string\n",
      "    hand: dictionary (string -> int)    \n",
      "    returns: dictionary (string -> int)\n",
      "    \"\"\"\n",
      "    handcopy=hand.copy()\n",
      "    for char in word:\n",
      "        if handcopy.get(char, 0)!=0:\n",
      "            handcopy[char]-=1\n",
      "    return(handcopy)\n"
     ],
     "language": "python",
     "metadata": {},
     "outputs": [],
     "prompt_number": 10
    },
    {
     "cell_type": "code",
     "collapsed": false,
     "input": [
      "print updateHand(hand,'quail')"
     ],
     "language": "python",
     "metadata": {},
     "outputs": [
      {
       "output_type": "stream",
       "stream": "stdout",
       "text": [
        "{'a': 0, 'q': 0, 'u': 0, 'i': 0, 'm': 1, 'l': 1}\n"
       ]
      }
     ],
     "prompt_number": 11
    },
    {
     "cell_type": "code",
     "collapsed": false,
     "input": [
      "def getFrequencyDict(sequence):\n",
      "    \"\"\"\n",
      "    Returns a dictionary where the keys are elements of the sequence\n",
      "    and the values are integer counts, for the number of times that\n",
      "    an element is repeated in the sequence.\n",
      "\n",
      "    sequence: string or list\n",
      "    return: dictionary\n",
      "    \"\"\"\n",
      "    # freqs: dictionary (element_type -> int)\n",
      "    freq = {}\n",
      "    for x in sequence:\n",
      "        freq[x] = freq.get(x,0) + 1\n",
      "    return freq"
     ],
     "language": "python",
     "metadata": {},
     "outputs": [],
     "prompt_number": 12
    },
    {
     "cell_type": "code",
     "collapsed": false,
     "input": [
      "def isValidWord(word, hand, wordList):\n",
      "    \"\"\"\n",
      "    Returns True if word is in the wordList and is entirely\n",
      "    composed of letters in the hand. Otherwise, returns False.\n",
      "\n",
      "    Does not mutate hand or wordList.\n",
      "   \n",
      "    word: string\n",
      "    hand: dictionary (string -> int)\n",
      "    wordList: list of lowercase strings\n",
      "    \"\"\"\n",
      "    flag=0\n",
      "    handcopy=hand.copy()\n",
      "    wordlistCopy=wordList\n",
      "    freqWord=getFrequencyDict(word)\n",
      "    if word in wordlistCopy:\n",
      "        for char in word:\n",
      "            if char in handcopy.keys():\n",
      "                if handcopy[char]>=freqWord[char]:\n",
      "                    flag+=1\n",
      "                    \n",
      "    if flag!=len(word) or flag==0:\n",
      "        return(False)\n",
      "    else:\n",
      "        return(True)\n"
     ],
     "language": "python",
     "metadata": {},
     "outputs": [],
     "prompt_number": 13
    },
    {
     "cell_type": "code",
     "collapsed": false,
     "input": [
      "hand = {'a': 1, 'b': 2, 'o': 1, 'n': 1, 'r': 1, 'u': 1, 'x': 1}\n",
      "word = \"boar\"\n",
      "toprint=sorted(hand,key=hand.get)\n",
      "for j in toprint:\n",
      "    print j,\n"
     ],
     "language": "python",
     "metadata": {},
     "outputs": [
      {
       "output_type": "stream",
       "stream": "stdout",
       "text": [
        "a o n r u x b\n"
       ]
      }
     ],
     "prompt_number": 14
    },
    {
     "cell_type": "code",
     "collapsed": false,
     "input": [
      "def playHand(hand, wordList, n):\n",
      "    \"\"\"\n",
      "    Allows the user to play the given hand, as follows:\n",
      "\n",
      "    * The hand is displayed.\n",
      "    * The user may input a word or a single period (the string \".\") \n",
      "      to indicate they're done playing\n",
      "    * Invalid words are rejected, and a message is displayed asking\n",
      "      the user to choose another word until they enter a valid word or \".\"\n",
      "    * When a valid word is entered, it uses up letters from the hand.\n",
      "    * After every valid word: the score for that word is displayed,\n",
      "      the remaining letters in the hand are displayed, and the user\n",
      "      is asked to input another word.\n",
      "    * The sum of the word scores is displayed when the hand finishes.\n",
      "    * The hand finishes when there are no more unused letters or the user\n",
      "      inputs a \".\"\n",
      "\n",
      "      hand: dictionary (string -> int)\n",
      "      wordList: list of lowercase strings\n",
      "      n: integer (HAND_SIZE; i.e., hand size required for additional points)\n",
      "      \n",
      "    \"\"\"\n",
      "    # BEGIN PSEUDOCODE <-- Remove this comment when you code this function; do your coding within the pseudocode (leaving those comments in-place!)\n",
      "    totalscore=0\n",
      "    handcopy=hand.copy()\n",
      "    check_dict={}\n",
      "    while sum(handcopy.values())!=check_dict:             \n",
      "        # Display the hand\n",
      "        toPrint=handcopy.keys()\n",
      "        print \"Current Hand: \",\n",
      "        for toDisp in sorted(toPrint):\n",
      "            if handcopy[toDisp]>0:\n",
      "                print toDisp,\n",
      "        # Ask user for input\n",
      "        print \" \"\n",
      "        userInput=raw_input(\"Enter word, or a \\\".\\\" to indicate that you are finished: \")\n",
      "        # If the input is a single period:\n",
      "        if userInput==\".\":\n",
      "            # End the game (break out of the loop)\n",
      "            break\n",
      "         # Otherwise (the input is not a single period):\n",
      "        else: \n",
      "            if isValidWord(userInput, handcopy, wordList)==False:\n",
      "            # If the word is not valid:\n",
      "           # Reject invalid word (print a message followed by a blank line)\n",
      "                print \"Invalid word, please try again.\"\n",
      "                print \" \"\n",
      "            else:\n",
      "            # Otherwise (the word is valid):\n",
      "                userScore=getWordScore(userInput,n)\n",
      "                totalscore+=userScore\n",
      "            # Tell the user how many points the word earned, and the updated total score, in one line followed by a blank line\n",
      "                print userInput + \" earned \" + str(userScore)+ \" points. Total: \" + str(totalscore) +\" points\"                \n",
      "            # Update the hand\n",
      "                handcopy=updateHand(handcopy, userInput)\n",
      "                \n",
      "        if sum(handcopy.values())==0:\n",
      "             print \"Run out of letters. Total score: \" + str(totalscore)+ \" points.\"\n",
      "             break\n",
      "                    \n",
      "    # Game is over (user entered a '.' or ran out of letters), so tell user the total score\n",
      "    if  userInput==\".\":\n",
      "        print \"Goodbye! Total score: \"+str(totalscore)+ \" points\"    \n",
      "        "
     ],
     "language": "python",
     "metadata": {},
     "outputs": [],
     "prompt_number": 15
    },
    {
     "cell_type": "code",
     "collapsed": false,
     "input": [
      "def playGame(wordList):\n",
      "    \"\"\"\n",
      "    Allow the user to play an arbitrary number of hands.\n",
      " \n",
      "    1) Asks the user to input 'n' or 'r' or 'e'.\n",
      "      * If the user inputs 'n', let the user play a new (random) hand.\n",
      "      * If the user inputs 'r', let the user play the last hand again.\n",
      "      * If the user inputs 'e', exit the game.\n",
      "      * If the user inputs anything else, tell them their input was invalid.\n",
      " \n",
      "    2) When done playing the hand, repeat from step 1\n",
      "    \"\"\"\n",
      "    hand={}\n",
      "    check={}\n",
      "    while True:\n",
      "        userChoice=raw_input(\"Enter n to deal a new hand, r to replay the last hand, or e to end game: \")\n",
      "        if userChoice not in \"nre\":\n",
      "            print \"Invalid command.\"\n",
      "        if userChoice==\"e\":\n",
      "            return\n",
      "        if hand==check and userChoice==\"r\":\n",
      "            print \"You have not played a hand yet. Please play a new hand first!\"\n",
      "        elif hand!=check and userChoice==\"r\":\n",
      "            playHand(hand, wordList,HAND_SIZE)\n",
      "        if userChoice==\"n\":\n",
      "            hand=dealHand(HAND_SIZE)\n",
      "            playHand(hand, wordList,HAND_SIZE)\n",
      "        \n"
     ],
     "language": "python",
     "metadata": {},
     "outputs": [],
     "prompt_number": 16
    },
    {
     "cell_type": "code",
     "collapsed": false,
     "input": [
      "%qtconsole"
     ],
     "language": "python",
     "metadata": {},
     "outputs": [],
     "prompt_number": 17
    },
    {
     "cell_type": "code",
     "collapsed": false,
     "input": [
      "def isValidWordComp(word, hand):\n",
      "    \"\"\"\n",
      "    Returns True if word is in the wordList and is entirely\n",
      "    composed of letters in the hand. Otherwise, returns False.\n",
      "\n",
      "    Does not mutate hand or wordList.\n",
      "   \n",
      "    word: string\n",
      "    hand: dictionary (string -> int)\n",
      "    wordList: list of lowercase strings\n",
      "    \"\"\"\n",
      "    flag=0\n",
      "    handcopy=hand.copy()\n",
      "    freqWord=getFrequencyDict(word)\n",
      "    for char in word:\n",
      "        if char in handcopy.keys():\n",
      "            if handcopy[char]>=freqWord[char]:\n",
      "                flag+=1\n",
      "                    \n",
      "    if flag!=len(word) or flag==0:\n",
      "        return(False)\n",
      "    else:\n",
      "        return(True)\n",
      "\n",
      "\n",
      "def compChooseWord(hand, wordList, n):\n",
      "    \"\"\"\n",
      "    Given a hand and a wordList, find the word that gives \n",
      "    the maximum value score, and return it.\n",
      "\n",
      "    This word should be calculated by considering all the words\n",
      "    in the wordList.\n",
      "\n",
      "    If no words in the wordList can be made from the hand, return None.\n",
      "\n",
      "    hand: dictionary (string -> int)\n",
      "    wordList: list (string)\n",
      "    n: integer (HAND_SIZE; i.e., hand size required for additional points)\n",
      "\n",
      "    returns: string or None\n",
      "    \"\"\"\n",
      "    # Create a new variable to store the maximum score seen so far (initially 0)\n",
      "    totScore=0\n",
      "\n",
      "    # Create a new variable to store the best word seen so far (initially None)  \n",
      "    bestWord=''\n",
      "    handcopy=hand.copy()\n",
      "    # For each word in the wordList\n",
      "    for char in wordList:\n",
      "        # If you can construct the word from your hand\n",
      "        # (hint: you can use isValidWord, or - since you don't really need to test if the word is in the wordList - you can make a similar function that omits that test)\n",
      "        if isValidWord(char, handcopy, wordList)==True:\n",
      "            # Find out how much making that word is worth\n",
      "            tempScore=getWordScore(char,n)\n",
      "            # If the score for that word is higher than your best score\n",
      "            if tempScore>totScore:\n",
      "                totScore+=tempScore\n",
      "                bestWord=char\n",
      "                # Update your best score, and best word accordingly\n",
      "\n",
      "\n",
      "    # return the best word you found.\n",
      "    if bestWord=='':\n",
      "        return('None')\n",
      "    else:\n",
      "        return(bestWord)"
     ],
     "language": "python",
     "metadata": {},
     "outputs": [],
     "prompt_number": 23
    },
    {
     "cell_type": "code",
     "collapsed": false,
     "input": [
      "import random\n",
      "import string\n",
      "\n",
      "VOWELS = 'aeiou'\n",
      "CONSONANTS = 'bcdfghjklmnpqrstvwxyz'\n",
      "HAND_SIZE = 7\n",
      "\n",
      "SCRABBLE_LETTER_VALUES = {\n",
      "    'a': 1, 'b': 3, 'c': 3, 'd': 2, 'e': 1, 'f': 4, 'g': 2, 'h': 4, 'i': 1, 'j': 8, 'k': 5, 'l': 1, 'm': 3, 'n': 1, 'o': 1, 'p': 3, 'q': 10, 'r': 1, 's': 1, 't': 1, 'u': 1, 'v': 4, 'w': 4, 'x': 8, 'y': 4, 'z': 10\n",
      "}\n",
      "\n",
      "# -----------------------------------\n",
      "# Helper code\n",
      "# (you don't need to understand this helper code)\n",
      "\n",
      "WORDLIST_FILENAME = \"words.txt\"\n",
      "wordList=loadWords()\n",
      "#compChooseWord({'a': 1, 'p': 2, 's': 1, 'e': 1, 'l': 1}, wordList, 6)\n",
      "#compChooseWord({'a': 2, 'c': 1, 'b': 1, 't': 1}, wordList, 5)\n",
      "compChooseWord({'a': 2, 'e': 2, 'i': 2, 'm': 2, 'n': 2, 't': 2}, wordList, 12)"
     ],
     "language": "python",
     "metadata": {},
     "outputs": [
      {
       "output_type": "stream",
       "stream": "stdout",
       "text": [
        "Loading word list from file...\n",
        "  "
       ]
      },
      {
       "output_type": "stream",
       "stream": "stdout",
       "text": [
        " 83667 words loaded.\n"
       ]
      },
      {
       "metadata": {},
       "output_type": "pyout",
       "prompt_number": 24,
       "text": [
        "'amanitin'"
       ]
      }
     ],
     "prompt_number": 24
    },
    {
     "cell_type": "code",
     "collapsed": false,
     "input": [],
     "language": "python",
     "metadata": {},
     "outputs": [],
     "prompt_number": 19
    },
    {
     "cell_type": "code",
     "collapsed": false,
     "input": [],
     "language": "python",
     "metadata": {},
     "outputs": [],
     "prompt_number": 19
    },
    {
     "cell_type": "code",
     "collapsed": false,
     "input": [],
     "language": "python",
     "metadata": {},
     "outputs": [],
     "prompt_number": 19
    }
   ],
   "metadata": {}
  }
 ]
}