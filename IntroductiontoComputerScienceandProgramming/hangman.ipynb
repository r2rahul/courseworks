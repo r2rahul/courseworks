{
 "metadata": {
  "name": "hangman"
 },
 "nbformat": 3,
 "nbformat_minor": 0,
 "worksheets": [
  {
   "cells": [
    {
     "cell_type": "code",
     "collapsed": false,
     "input": [
      "def iterPower(base, exp):\n",
      "    '''\n",
      "    base: int or float.\n",
      "    exp: int >= 0\n",
      " \n",
      "    returns: int or float, base^exp\n",
      "    '''\n",
      "    # Your code here\n",
      "    mult=1\n",
      "    for j in range(1,exp+1):\n",
      "        mult*=base        \n",
      "    return(mult)\n"
     ],
     "language": "python",
     "metadata": {},
     "outputs": [],
     "prompt_number": 2
    },
    {
     "cell_type": "code",
     "collapsed": false,
     "input": [
      "iterPower(4,3)"
     ],
     "language": "python",
     "metadata": {},
     "outputs": [
      {
       "output_type": "pyout",
       "prompt_number": 5,
       "text": [
        "64"
       ]
      }
     ],
     "prompt_number": 5
    },
    {
     "cell_type": "code",
     "collapsed": false,
     "input": [
      "def recurPower(base, exp):\n",
      "    '''\n",
      "    base: int or float.\n",
      "    exp: int >= 0\n",
      " \n",
      "    returns: int or float, base^exp\n",
      "    '''\n",
      "    if exp==0:\n",
      "        return(1)\n",
      "    \n",
      "    return(base*recurPower(base,exp-1))\n"
     ],
     "language": "python",
     "metadata": {},
     "outputs": [],
     "prompt_number": 10
    },
    {
     "cell_type": "code",
     "collapsed": false,
     "input": [
      "recurPower(2,2)"
     ],
     "language": "python",
     "metadata": {},
     "outputs": [
      {
       "output_type": "pyout",
       "prompt_number": 13,
       "text": [
        "4"
       ]
      }
     ],
     "prompt_number": 13
    },
    {
     "cell_type": "code",
     "collapsed": false,
     "input": [
      "def recurPowerNew(base, exp):\n",
      "    '''\n",
      "    base: int or float.\n",
      "    exp: int >= 0\n",
      "\n",
      "    returns: int or float; base^exp\n",
      "    '''\n",
      "    if exp==0:\n",
      "        return(1)\n",
      "    elif exp%2==0 and exp>0:\n",
      "        return(recurPowerNew(base*base, exp/2))\n",
      "    \n",
      "    return(base*recurPowerNew(base,exp-1))\n",
      "\n"
     ],
     "language": "python",
     "metadata": {},
     "outputs": [],
     "prompt_number": 19
    },
    {
     "cell_type": "code",
     "collapsed": false,
     "input": [
      "recurPowerNew(2,3)"
     ],
     "language": "python",
     "metadata": {},
     "outputs": [
      {
       "output_type": "pyout",
       "prompt_number": 20,
       "text": [
        "8"
       ]
      }
     ],
     "prompt_number": 20
    },
    {
     "cell_type": "code",
     "collapsed": false,
     "input": [
      "%qtconsole\n"
     ],
     "language": "python",
     "metadata": {},
     "outputs": [],
     "prompt_number": 1
    },
    {
     "cell_type": "code",
     "collapsed": false,
     "input": [],
     "language": "python",
     "metadata": {},
     "outputs": []
    }
   ],
   "metadata": {}
  }
 ]
}